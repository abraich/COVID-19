{
  "nbformat": 4,
  "nbformat_minor": 0,
  "metadata": {
    "colab": {
      "name": "COVID19",
      "provenance": [],
      "collapsed_sections": []
    },
    "kernelspec": {
      "name": "python3",
      "display_name": "Python 3"
    }
  },
  "cells": [
    {
      "cell_type": "markdown",
      "metadata": {
        "id": "KtVO4ihViu0i",
        "colab_type": "text"
      },
      "source": [
        "\n",
        "# **Ayoub Abraich**\n",
        "## M2 Data Science \n",
        "## Paris Saclay university "
      ]
    },
    {
      "cell_type": "code",
      "metadata": {
        "id": "H4EPTAxWKhmp",
        "colab_type": "code",
        "colab": {}
      },
      "source": [
        "import pandas as pd\n",
        "import matplotlib.pyplot as plt\n",
        "import numpy as np\n",
        "from sklearn.neighbors import KernelDensity\n",
        "from scipy.optimize import minimize\n",
        "import seaborn as sns\n",
        "from tqdm import tqdm\n",
        "import statsmodels.api as sm\n"
      ],
      "execution_count": 0,
      "outputs": []
    },
    {
      "cell_type": "code",
      "metadata": {
        "id": "fzQH9rPfKtAz",
        "colab_type": "code",
        "colab": {}
      },
      "source": [
        "corona = pd.read_csv(\"cornew.csv\") "
      ],
      "execution_count": 0,
      "outputs": []
    },
    {
      "cell_type": "code",
      "metadata": {
        "id": "TijIHB6qK5M3",
        "colab_type": "code",
        "colab": {}
      },
      "source": [
        "def get_data(pays):\n",
        "  pays_data=corona[corona[\"Pays\"]==pays].set_index('Date').drop(columns=['Pays'])\n",
        "  infections=np.array(pays_data.reset_index()['Infections'])\n",
        "  infections.sort()\n",
        "  ###\n",
        "  deces=np.array(pays_data.reset_index()['Deces'])\n",
        "  deces.sort()\n",
        "  return infections,deces\n",
        "\n",
        "def plot(data,label,pays):\n",
        "  plt.plot(data)\n",
        "  plt.title(\"Evolutions des \"+label+\" en \"+pays)\n",
        "  plt.xlabel(\"Jours\")\n",
        "  plt.ylabel(\"Nombres des \"+label)\n",
        "  plt.show()"
      ],
      "execution_count": 0,
      "outputs": []
    },
    {
      "cell_type": "code",
      "metadata": {
        "id": "ukFP9xOmLpe-",
        "colab_type": "code",
        "colab": {}
      },
      "source": [
        "infections,deces=get_data('France')"
      ],
      "execution_count": 0,
      "outputs": []
    },
    {
      "cell_type": "code",
      "metadata": {
        "id": "xfUR7EOEL7X8",
        "colab_type": "code",
        "colab": {
          "base_uri": "https://localhost:8080/",
          "height": 295
        },
        "outputId": "3da5eb0c-0ac2-4ccb-9d1d-0534f6fd410b"
      },
      "source": [
        "plot(infections,\"infections\",'France')"
      ],
      "execution_count": 6,
      "outputs": [
        {
          "output_type": "display_data",
          "data": {
            "image/png": "[encoded data removed]",
            "text/plain": [
              "<Figure size 432x288 with 1 Axes>"
            ]
          },
          "metadata": {
            "tags": []
          }
        }
      ]
    },
    {
      "cell_type": "code",
      "metadata": {
        "id": "-impv7GiN2IA",
        "colab_type": "code",
        "colab": {
          "base_uri": "https://localhost:8080/",
          "height": 295
        },
        "outputId": "0310b348-be37-4992-d224-30c09bdf6c70"
      },
      "source": [
        "plot(deces,\"deces\",'France')"
      ],
      "execution_count": 7,
      "outputs": [
        {
          "output_type": "display_data",
          "data": {
            "image/png": "[encoded data removed]",
            "text/plain": [
              "<Figure size 432x288 with 1 Axes>"
            ]
          },
          "metadata": {
            "tags": []
          }
        }
      ]
    },
    {
      "cell_type": "code",
      "metadata": {
        "id": "hmZtF_fDUee1",
        "colab_type": "code",
        "colab": {}
      },
      "source": [
        ""
      ],
      "execution_count": 0,
      "outputs": []
    },
    {
      "cell_type": "markdown",
      "metadata": {
        "id": "7ARK9JSGPBIc",
        "colab_type": "text"
      },
      "source": [
        "GLM"
      ]
    },
    {
      "cell_type": "code",
      "metadata": {
        "id": "ftbfazTtO0su",
        "colab_type": "code",
        "colab": {}
      },
      "source": [
        "def GLM(data,Nday):\n",
        "    n=len(data)\n",
        "    X=np.arange(1,n+1)\n",
        "    y=data\n",
        "    X= sm.add_constant(X, prepend=False)\n",
        "    model = sm.GLM(y,X,family=sm.families.Gaussian(sm.families.links.log))\n",
        "    res = model.fit()\n",
        "    X_test=sm.add_constant(np.arange(1,Nday+1), prepend=False) \n",
        "    y_pred = res.predict(X_test).astype(int)\n",
        "    error=np.sqrt(sum((y-y_pred[0:len(data)])**2))\n",
        "    print('Prediction = ',y_pred)\n",
        "    print(\"Erreur = \",error)\n",
        "    plt.xlabel(\"Jours\")\n",
        "    plt.ylabel(\"Nombres des cas au Maroc\")\n",
        "    plt.plot(X,y,'x')\n",
        "    plt.plot(np.arange(1,Nday+1),y_pred)\n",
        "    plt.show()"
      ],
      "execution_count": 0,
      "outputs": []
    },
    {
      "cell_type": "code",
      "metadata": {
        "id": "uevpG0I5HUjC",
        "colab_type": "code",
        "colab": {
          "base_uri": "https://localhost:8080/",
          "height": 107
        },
        "outputId": "9c39dcf7-4838-40a3-cbc4-a820595d739f"
      },
      "source": [
        "len(infections),infections"
      ],
      "execution_count": 9,
      "outputs": [
        {
          "output_type": "execute_result",
          "data": {
            "text/plain": [
              "(52, array([   2,    3,    3,    3,    4,    5,    5,    5,    6,    6,    6,\n",
              "           6,    6,    6,    6,   11,   11,   11,   11,   11,   11,   11,\n",
              "          12,   12,   12,   12,   12,   12,   12,   12,   12,   12,   14,\n",
              "          18,   38,   57,  100,  130,  191,  204,  285,  377,  653,  949,\n",
              "        1126, 1412, 1784, 2281, 2876, 3664, 4477, 5423]))"
            ]
          },
          "metadata": {
            "tags": []
          },
          "execution_count": 9
        }
      ]
    },
    {
      "cell_type": "code",
      "metadata": {
        "id": "C-54PYbiS1qy",
        "colab_type": "code",
        "colab": {
          "base_uri": "https://localhost:8080/",
          "height": 443
        },
        "outputId": "87676bdc-2d11-4a3e-db8b-de6c72cf4f6b"
      },
      "source": [
        "GLM(infections,54)"
      ],
      "execution_count": 10,
      "outputs": [
        {
          "output_type": "stream",
          "text": [
            "Prediction =  [   0    0    0    0    0    0    0    0    0    0    0    0    0    0\n",
            "    1    1    1    2    2    3    4    5    6    8   10   13   16   21\n",
            "   26   33   42   53   67   85  107  136  171  216  273  344  434  548\n",
            "  691  872 1100 1388 1751 2209 2787 3516 4435 5595 7058 8904]\n",
            "Erreur =  434.53423340399775\n"
          ],
          "name": "stdout"
        },
        {
          "output_type": "stream",
          "text": [
            "/usr/local/lib/python3.6/dist-packages/ipykernel_launcher.py:6: DeprecationWarning: Calling Family(..) with a link class as argument is deprecated.\n",
            "Use an instance of a link class instead.\n",
            "  \n"
          ],
          "name": "stderr"
        },
        {
          "output_type": "display_data",
          "data": {
            "image/png": "[encoded data removed]",
            "text/plain": [
              "<Figure size 432x288 with 1 Axes>"
            ]
          },
          "metadata": {
            "tags": []
          }
        }
      ]
    },
    {
      "cell_type": "code",
      "metadata": {
        "id": "coivEW-bHi71",
        "colab_type": "code",
        "colab": {
          "base_uri": "https://localhost:8080/",
          "height": 89
        },
        "outputId": "bf6ffa49-fbcc-4fbb-c72e-c9f0dcb407a5"
      },
      "source": [
        "deces"
      ],
      "execution_count": 11,
      "outputs": [
        {
          "output_type": "execute_result",
          "data": {
            "text/plain": [
              "array([  0,   0,   0,   0,   0,   0,   0,   0,   0,   0,   0,   0,   0,\n",
              "         0,   0,   0,   0,   0,   0,   0,   0,   0,   1,   1,   1,   1,\n",
              "         1,   1,   1,   1,   1,   1,   1,   2,   2,   2,   2,   2,   3,\n",
              "         4,   4,   6,   9,  11,  19,  25,  33,  48,  61,  79,  91, 127])"
            ]
          },
          "metadata": {
            "tags": []
          },
          "execution_count": 11
        }
      ]
    },
    {
      "cell_type": "code",
      "metadata": {
        "id": "atTg-cO0MD_y",
        "colab_type": "code",
        "colab": {
          "base_uri": "https://localhost:8080/",
          "height": 425
        },
        "outputId": "68ca3e30-6f0a-46f0-a83b-6b1b0618e64d"
      },
      "source": [
        "GLM(deces,54)"
      ],
      "execution_count": 12,
      "outputs": [
        {
          "output_type": "stream",
          "text": [
            "Prediction =  [  0   0   0   0   0   0   0   0   0   0   0   0   0   0   0   0   0   0\n",
            "   0   0   0   0   0   0   0   0   0   0   0   0   0   0   0   1   1   1\n",
            "   2   3   3   5   6   8  11  15  19  25  33  43  56  74  97 126 165 216]\n",
            "Erreur =  12.489995996796797\n"
          ],
          "name": "stdout"
        },
        {
          "output_type": "stream",
          "text": [
            "/usr/local/lib/python3.6/dist-packages/ipykernel_launcher.py:6: DeprecationWarning: Calling Family(..) with a link class as argument is deprecated.\n",
            "Use an instance of a link class instead.\n",
            "  \n"
          ],
          "name": "stderr"
        },
        {
          "output_type": "display_data",
          "data": {
            "image/png": "[encoded data removed]",
            "text/plain": [
              "<Figure size 432x288 with 1 Axes>"
            ]
          },
          "metadata": {
            "tags": []
          }
        }
      ]
    },
    {
      "cell_type": "code",
      "metadata": {
        "id": "KZFJganBUiRk",
        "colab_type": "code",
        "colab": {}
      },
      "source": [
        "infectionsMA,decesMA=get_data('Maroc')"
      ],
      "execution_count": 0,
      "outputs": []
    },
    {
      "cell_type": "code",
      "metadata": {
        "id": "Negb_IwJUnQk",
        "colab_type": "code",
        "colab": {
          "base_uri": "https://localhost:8080/",
          "height": 53
        },
        "outputId": "13a1aaea-c463-47fd-ed02-6bce6462584e"
      },
      "source": [
        "infectionsMA,decesMA"
      ],
      "execution_count": 14,
      "outputs": [
        {
          "output_type": "execute_result",
          "data": {
            "text/plain": [
              "(array([ 1,  1,  1,  2,  2,  2,  2,  2,  3,  5,  6,  7, 17, 28]),\n",
              " array([0, 0, 0, 0, 0, 0, 0, 0, 1, 1, 1, 1, 1, 1]))"
            ]
          },
          "metadata": {
            "tags": []
          },
          "execution_count": 14
        }
      ]
    },
    {
      "cell_type": "code",
      "metadata": {
        "id": "Ax3Ooh3nUtGV",
        "colab_type": "code",
        "colab": {
          "base_uri": "https://localhost:8080/",
          "height": 407
        },
        "outputId": "d0f190bb-7dfe-4dcd-8ee7-3d23ed71effe"
      },
      "source": [
        "GLM(infectionsMA,20)"
      ],
      "execution_count": 15,
      "outputs": [
        {
          "output_type": "stream",
          "text": [
            "Prediction =  [  0   0   0   0   0   0   0   1   2   3   6  10  16  27  45  75 124 205\n",
            " 339 561]\n",
            "Erreur =  6.0\n"
          ],
          "name": "stdout"
        },
        {
          "output_type": "stream",
          "text": [
            "/usr/local/lib/python3.6/dist-packages/ipykernel_launcher.py:6: DeprecationWarning: Calling Family(..) with a link class as argument is deprecated.\n",
            "Use an instance of a link class instead.\n",
            "  \n"
          ],
          "name": "stderr"
        },
        {
          "output_type": "display_data",
          "data": {
            "image/png": "[encoded data removed]",
            "text/plain": [
              "<Figure size 432x288 with 1 Axes>"
            ]
          },
          "metadata": {
            "tags": []
          }
        }
      ]
    },
    {
      "cell_type": "markdown",
      "metadata": {
        "id": "3IQXYPY7MgAc",
        "colab_type": "text"
      },
      "source": [
        "# Modelisation :"
      ]
    },
    {
      "cell_type": "markdown",
      "metadata": {
        "id": "NyZ8poPNMjf1",
        "colab_type": "text"
      },
      "source": [
        "Soit $N(t)$ le nombre de cas contaminés au temps t. On a la formule récurrente (simpliste) suivante qui décrit la dynamique du propagation de l'épidimie :  \n",
        "$$ N_{n+1}=N_n+ E\\cdot p\\cdot N_n$$ \n",
        "avec : \n",
        "  - $p$ : la probabilité que le malade contamine ceux qui sont en contact avec lui , elle est liée fortement par exmemple aux gestes barrières adoptées par les gens.\n",
        "  - $E$ : la moyenne des gens qui sont en contact avec le malade contaminé . "
      ]
    },
    {
      "cell_type": "markdown",
      "metadata": {
        "id": "hqrCsCx2OB0p",
        "colab_type": "text"
      },
      "source": [
        "Dans un premier temps , on considère $E$ et $p$ contstants par rapport au temps ( ce qui est faux ! ) mais cela va nous permettre d'avoir une idée sur la dynamique de COVID19.  On obtient : \n",
        "$$N_{n+1}=N_n+ E\\cdot p\\cdot N_n \\Leftrightarrow N_n = (1+E\\cdot p)^n N_0=(1+E\\cdot p)^{n-n_0}N_{n_0}$$"
      ]
    },
    {
      "cell_type": "code",
      "metadata": {
        "id": "CONFn3sbMfYU",
        "colab_type": "code",
        "colab": {}
      },
      "source": [
        "def N1(n,E,p,data):\n",
        "   return (1+E*p)**n * data[0]"
      ],
      "execution_count": 0,
      "outputs": []
    },
    {
      "cell_type": "code",
      "metadata": {
        "id": "c_N6rl9BMd0V",
        "colab_type": "code",
        "colab": {
          "base_uri": "https://localhost:8080/",
          "height": 283
        },
        "outputId": "44f9ef7f-3826-450d-baef-55c4b6226fbe"
      },
      "source": [
        "# Example 1  \n",
        "E=1.\n",
        "p=0.1\n",
        "plt.plot([N1(i,E,p,infections) for i in range(len(infections))])"
      ],
      "execution_count": 17,
      "outputs": [
        {
          "output_type": "execute_result",
          "data": {
            "text/plain": [
              "[<matplotlib.lines.Line2D at 0x7f3a68e66438>]"
            ]
          },
          "metadata": {
            "tags": []
          },
          "execution_count": 17
        },
        {
          "output_type": "display_data",
          "data": {
            "image/png": "[encoded data removed]",
            "text/plain": [
              "<Figure size 432x288 with 1 Axes>"
            ]
          },
          "metadata": {
            "tags": []
          }
        }
      ]
    },
    {
      "cell_type": "code",
      "metadata": {
        "id": "1rG8H_i7RyVn",
        "colab_type": "code",
        "colab": {
          "base_uri": "https://localhost:8080/",
          "height": 294
        },
        "outputId": "12f3f9d7-1c57-4c3b-bf54-133a661a9e97"
      },
      "source": [
        "# Example 2\n",
        "E=1.\n",
        "p=0.5\n",
        "plt.plot([N1(i,E,p,infections) for i in range(len(infections))])"
      ],
      "execution_count": 18,
      "outputs": [
        {
          "output_type": "execute_result",
          "data": {
            "text/plain": [
              "[<matplotlib.lines.Line2D at 0x7f3a68e40cf8>]"
            ]
          },
          "metadata": {
            "tags": []
          },
          "execution_count": 18
        },
        {
          "output_type": "display_data",
          "data": {
            "image/png": "[encoded data removed]",
            "text/plain": [
              "<Figure size 432x288 with 1 Axes>"
            ]
          },
          "metadata": {
            "tags": []
          }
        }
      ]
    },
    {
      "cell_type": "code",
      "metadata": {
        "id": "lzx_87npSVFs",
        "colab_type": "code",
        "colab": {
          "base_uri": "https://localhost:8080/",
          "height": 283
        },
        "outputId": "ad99321b-a7eb-4fe3-ce10-5c6f3175b013"
      },
      "source": [
        "# Example 3\n",
        "E=2.\n",
        "p=0.1\n",
        "plt.plot([N1(i,E,p,infections) for i in range(len(infections))])"
      ],
      "execution_count": 19,
      "outputs": [
        {
          "output_type": "execute_result",
          "data": {
            "text/plain": [
              "[<matplotlib.lines.Line2D at 0x7f3a68db0828>]"
            ]
          },
          "metadata": {
            "tags": []
          },
          "execution_count": 19
        },
        {
          "output_type": "display_data",
          "data": {
            "image/png": "[encoded data removed]",
            "text/plain": [
              "<Figure size 432x288 with 1 Axes>"
            ]
          },
          "metadata": {
            "tags": []
          }
        }
      ]
    },
    {
      "cell_type": "code",
      "metadata": {
        "id": "KXU-iCZCSGtH",
        "colab_type": "code",
        "colab": {
          "base_uri": "https://localhost:8080/",
          "height": 294
        },
        "outputId": "acbc6ab5-ebac-4ea8-b179-450914b2ab93"
      },
      "source": [
        "# Example 4\n",
        "E=2.\n",
        "p=0.5\n",
        "plt.plot([N1(i,E,p,infections) for i in range(len(infections))])"
      ],
      "execution_count": 20,
      "outputs": [
        {
          "output_type": "execute_result",
          "data": {
            "text/plain": [
              "[<matplotlib.lines.Line2D at 0x7f3a68d8db38>]"
            ]
          },
          "metadata": {
            "tags": []
          },
          "execution_count": 20
        },
        {
          "output_type": "display_data",
          "data": {
            "image/png": "[encoded data removed]",
            "text/plain": [
              "<Figure size 432x288 with 1 Axes>"
            ]
          },
          "metadata": {
            "tags": []
          }
        }
      ]
    },
    {
      "cell_type": "code",
      "metadata": {
        "id": "r-0c8wfo1LLR",
        "colab_type": "code",
        "colab": {
          "base_uri": "https://localhost:8080/",
          "height": 107
        },
        "outputId": "8b97aa41-3ae1-43d8-8333-20a73b3168d6"
      },
      "source": [
        "Ep=[(0.1,0.5),(2,0.2),(5,0.1),(10,0.1),(100,0.8)]\n",
        "for e in Ep :\n",
        "  print(\"%.2e\"%int(N1(50,e[0],e[1],infections)))"
      ],
      "execution_count": 21,
      "outputs": [
        {
          "output_type": "stream",
          "text": [
            "2.20e+01\n",
            "4.05e+07\n",
            "1.28e+09\n",
            "2.25e+15\n",
            "5.31e+95\n"
          ],
          "name": "stdout"
        }
      ]
    },
    {
      "cell_type": "markdown",
      "metadata": {
        "id": "nsx0jpMb7Ea7",
        "colab_type": "text"
      },
      "source": [
        "|  E  |  p  |   N_10   |   N_50   |\n",
        "|:---:|:---:|:--------:|:--------:|\n",
        "| 0.1 | 0.5 |     3    |    22    |\n",
        "|  2  | 0.2 | 5.70e+01 | 4.05e+07 |\n",
        "|  5  | 0.1 | 1.15e+02 | 1.28e+09 |\n",
        "|  10 | 0.6 | 2.05e+03 | 2.25e+15 |\n",
        "| 100 | 0.8 | 2.43e+19 | 5.31e+95 |"
      ]
    },
    {
      "cell_type": "markdown",
      "metadata": {
        "id": "dIrA6UGoSxEW",
        "colab_type": "text"
      },
      "source": [
        "On constate que $E$ et $p$ determine la vitesse de propagation , ce qui justifie les mesures prises par le gouvernements ( interdiction de rassemblement afin de diminuer $E$ )  et les gestes barrieres ( afin de diminuer $p$ ) . "
      ]
    },
    {
      "cell_type": "markdown",
      "metadata": {
        "id": "EPULhrSKTj1b",
        "colab_type": "text"
      },
      "source": [
        "Dans notre modèle simpliste , on avait oublié ( mis à part la dépendance avec le temps de $E$ et $p$ ) le fait que $p$ est décroissante dans le temps et tend vers 0 : en effet, plus le virus est propagé , la probabilité de le transmettre à quelqu'un qui est déja contaminé est quasiment nulle . Donc, on doit prendre cela en compte , on posant : \n",
        "$$ p(t):=1 - \\frac{N(t)}{n_{pop}}$$ \n",
        "avec $n_{pop}$ le nombre de population dans le cluster étudié ou plus géneralement dans tout le pays . \n",
        "Cela implique une nouvelle équation différentielle simple (en supposant toujours que $E$ est indépedant du temps $t$ , ce qui faux en géneral mais pratique ) : \n"
      ]
    },
    {
      "cell_type": "markdown",
      "metadata": {
        "id": "DyseZNOsVaLq",
        "colab_type": "text"
      },
      "source": [
        "$$N_{n+1}-N_n = E\\cdot p\\cdot N_n\\rightarrow  N^{\\prime}(t)=E\\cdot \\left ( 1-\\frac{N(t)}{n_{pop}}\\right )N(t)$$\n",
        "et $N(t_0)=N_0$ "
      ]
    },
    {
      "cell_type": "markdown",
      "metadata": {
        "id": "82u5EqIKWY5l",
        "colab_type": "text"
      },
      "source": [
        "On peut écrire cette EDS comme : \n",
        "$$ N^{\\prime}(t)= g(t,N(t))$$\n",
        "avec $g(t,y):= E\\cdot (1-\\frac{y}{n_{pop}})y$ et $g$ vérifie bien les condition du théoreme de Cauchy-Lipschitz : D'ou l'existence et l'unicité de la solution."
      ]
    },
    {
      "cell_type": "markdown",
      "metadata": {
        "id": "9y0GqUBmY9A8",
        "colab_type": "text"
      },
      "source": [
        "On exhibe la solution sous forme d'une logistique, cad: \n",
        "$$ N(t)=\\frac{a}{\\alpha+b\\cdot \\exp(c\\cdot t)} $$\n",
        "\n",
        "\n"
      ]
    },
    {
      "cell_type": "markdown",
      "metadata": {
        "id": "Na8H_CIlZji0",
        "colab_type": "text"
      },
      "source": [
        "On retrouve par un simple calcul :\n",
        "$$N(t)=\\frac{n_{pop}}{\\alpha+\\gamma _0\\cdot \\exp(E\\cdot (t_0-t))}$$\n",
        "avec $\\gamma_0:=\\frac{n_{pop}}{N(t_0)}-\\alpha$\n",
        "\n"
      ]
    },
    {
      "cell_type": "markdown",
      "metadata": {
        "id": "KS6iMtZ3ah94",
        "colab_type": "text"
      },
      "source": [
        "De meme pour $p$ : \n",
        "$$p(t):=1-\\frac{N(t)}{n_{pop}}=1-\\frac{1}{\\alpha+\\gamma _0\\cdot \\exp(E\\cdot (t_0-t))}$$"
      ]
    },
    {
      "cell_type": "code",
      "metadata": {
        "id": "iTC03yd6dza-",
        "colab_type": "code",
        "colab": {
          "base_uri": "https://localhost:8080/",
          "height": 35
        },
        "outputId": "367b2c1a-4401-4eef-a27f-53ccd1c26495"
      },
      "source": [
        "\n",
        "infections[0]"
      ],
      "execution_count": 22,
      "outputs": [
        {
          "output_type": "execute_result",
          "data": {
            "text/plain": [
              "2"
            ]
          },
          "metadata": {
            "tags": []
          },
          "execution_count": 22
        }
      ]
    },
    {
      "cell_type": "code",
      "metadata": {
        "id": "z_OEOFwCWYGp",
        "colab_type": "code",
        "colab": {}
      },
      "source": [
        "def N2(t,t0,E,npop,alpha,data):\n",
        "  gamma0=npop/data[3]-alpha\n",
        "  return npop/(alpha+gamma0*np.exp(E*(t0-t)))"
      ],
      "execution_count": 0,
      "outputs": []
    },
    {
      "cell_type": "code",
      "metadata": {
        "id": "IAmlopwZSwS9",
        "colab_type": "code",
        "colab": {
          "base_uri": "https://localhost:8080/",
          "height": 295
        },
        "outputId": "1f1dcc65-102c-48c0-d10a-a15eddd1e484"
      },
      "source": [
        "# Examples\n",
        "npop=6*10**7\n",
        "t0=0\n",
        "alpha=5000\n",
        "E_list=[0.1,0.2,0.5,1,2,5]\n",
        "for E in E_list : \n",
        "  plt.plot([N2(i,t0,E,npop,alpha,infections) for i in range(3*len(infections))],label=\"for E = \"+str(E))\n",
        "\n",
        "plt.title(\"Evolution of infections\")\n",
        "plt.xlabel(\"Days\")\n",
        "plt.ylabel(\"Number of infections\")\n",
        "plt.legend()\n",
        "plt.show()"
      ],
      "execution_count": 24,
      "outputs": [
        {
          "output_type": "display_data",
          "data": {
            "image/png": "[encoded data removed]",
            "text/plain": [
              "<Figure size 432x288 with 1 Axes>"
            ]
          },
          "metadata": {
            "tags": []
          }
        }
      ]
    },
    {
      "cell_type": "markdown",
      "metadata": {
        "id": "cMO-T_f38iPD",
        "colab_type": "text"
      },
      "source": [
        "Rappeleons que  : $$N(t)=\\frac{a}{\\alpha+b\\cdot \\exp(c\\cdot t)}=\\frac{\\tilde{a}}{1+\\exp(-\\tilde{c}\\cdot(t-\\tilde{b}))}$$ \n",
        "Le but maintenant est de trouver les parametres $\\tilde{a},\\tilde{b}$ et $\\tilde{c}$ pour nos données réelles . \n",
        "On note : $$\\psi_t(\\theta):=\\frac{\\theta_1}{1+\\exp(-\\theta_3\\cdot(t-\\theta_2))}$$\n",
        "On doit calculer $\\theta^*:=\\left (\\theta_0^*,\\theta_1^*,\\theta_2^*\\right )$ tq $$ \\theta^*= \\textit{argmin}_{\\theta} \\sum_{i=1}^{n}\\left | X_{t_i}-\\psi_{t_i}(\\theta) \\right |^{2}$$\n",
        "avec la méthode Gradient Descent par exemple . Ensuite on définit notre prédicteur de $N(t)$ par : \n",
        "$$\\hat{N}(t):=\\psi_t(\\theta^*)$$"
      ]
    },
    {
      "cell_type": "code",
      "metadata": {
        "id": "t1sJdL6N9ZS-",
        "colab_type": "code",
        "colab": {}
      },
      "source": [
        "from scipy import optimize\n",
        "\n",
        "def fit_bootstrap(p0, datax, datay, function, yerr_systematic=0.0):\n",
        "\n",
        "    errfunc = lambda p, x, y: function(x,p) - y\n",
        "\n",
        "    # Fit first time\n",
        "    pfit, perr = optimize.leastsq(errfunc, p0, args=(datax, datay), full_output=0)\n",
        "\n",
        "\n",
        "    # Get the stdev of the residuals\n",
        "    residuals = errfunc(pfit, datax, datay)\n",
        "    sigma_res = np.std(residuals)\n",
        "\n",
        "    sigma_err_total = np.sqrt(sigma_res**2 + yerr_systematic**2)\n",
        "\n",
        "    # 500 random data sets are generated and fitted\n",
        "    ps = []\n",
        "    for i in range(500):\n",
        "\n",
        "        randomDelta = np.random.normal(0., sigma_err_total, len(datay))\n",
        "        randomdataY = datay + randomDelta\n",
        "\n",
        "        randomfit, randomcov = \\\n",
        "            optimize.leastsq(errfunc, p0, args=(datax, randomdataY),\\\n",
        "                             full_output=0)\n",
        "\n",
        "        ps.append(randomfit) \n",
        "\n",
        "    ps = np.array(ps)\n",
        "    mean_pfit = np.mean(ps,0)\n",
        "\n",
        "    # You can choose the confidence interval that you want for your\n",
        "    # parameter estimates: \n",
        "    Nsigma = 1. # 1sigma gets approximately the same as methods above\n",
        "                # 1sigma corresponds to 68.3% confidence interval\n",
        "                # 2sigma corresponds to 95.44% confidence interval\n",
        "    err_pfit = Nsigma * np.std(ps,0) \n",
        "\n",
        "    pfit_bootstrap = mean_pfit\n",
        "    perr_bootstrap = err_pfit\n",
        "    return pfit_bootstrap, perr_bootstrap \n",
        "\n",
        "def sigmoid(x, pars):\n",
        "    c = pars[0]\n",
        "    a = pars[1]\n",
        "    b = pars[2]\n",
        "    return a / (1 + np.exp(-(x-b)*c))"
      ],
      "execution_count": 0,
      "outputs": []
    },
    {
      "cell_type": "code",
      "metadata": {
        "id": "_VgqZLov95gG",
        "colab_type": "code",
        "colab": {}
      },
      "source": [
        "pstart = [2.43758048e-01, 4.31177862e+04, 1.95312145e+01]\n",
        "\n",
        "ydata = infections\n",
        "\n",
        "xdata = np.arange(len(ydata))\n",
        "          \n",
        "pfit, perr = fit_bootstrap(pstart, xdata, ydata, sigmoid)"
      ],
      "execution_count": 0,
      "outputs": []
    },
    {
      "cell_type": "code",
      "metadata": {
        "id": "mUk59dje_EQu",
        "colab_type": "code",
        "colab": {
          "base_uri": "https://localhost:8080/",
          "height": 53
        },
        "outputId": "10b5eb79-1f5c-4381-aed5-8d5ffaaf1bf5"
      },
      "source": [
        "pfit, perr                  "
      ],
      "execution_count": 27,
      "outputs": [
        {
          "output_type": "execute_result",
          "data": {
            "text/plain": [
              "(array([2.91207504e-01, 1.39618697e+04, 5.25591839e+01]),\n",
              " array([5.14021381e-03, 9.04664455e+02, 3.70279836e-01]))"
            ]
          },
          "metadata": {
            "tags": []
          },
          "execution_count": 27
        }
      ]
    },
    {
      "cell_type": "code",
      "metadata": {
        "id": "s2epBwr1-I9X",
        "colab_type": "code",
        "colab": {
          "base_uri": "https://localhost:8080/",
          "height": 489
        },
        "outputId": "db1d8c05-bc89-4aa1-929a-ae225833ab40"
      },
      "source": [
        "fig = plt.figure(figsize=(14, 7))\n",
        "ax = fig.add_subplot(111)\n",
        "# data réelle \n",
        "ax.plot(xdata, ydata, '+', markersize=20,label=\"Real infections\")\n",
        "# \n",
        "ysim = sigmoid(xdata, pfit).astype(int)\n",
        "ax.plot(xdata, ysim, '--', c = 'r')\n",
        "\n",
        "# Extrapolation\n",
        "xsim = np.linspace (len(xdata), 2*len(xdata))\n",
        "ysim = sigmoid(xsim, pfit).astype(int)\n",
        "ax.plot(xsim, ysim, '--', c = 'r', label=\"Extrapolation\")\n",
        "\n",
        "\n",
        "# l'Extrapolation maximale\n",
        "ysim_sup = sigmoid(xsim, pfit+perr).astype(int)\n",
        "ax.plot(xsim, ysim_sup, '--', c = 'r', alpha = 0.2)\n",
        "\n",
        "# l'Extrapolation minimale\n",
        "\n",
        "ysim_inf = sigmoid(xsim, pfit-perr).astype(int)\n",
        "ax.plot(xsim, ysim_inf, '--', c = 'r', alpha = 0.2)\n",
        "plt.fill_between(xsim, ysim_sup, ysim_inf, facecolor=\"red\", alpha=0.1)\n",
        "attesi_inf = int(np.round(ysim_inf[-1], decimals=-3))\n",
        "attesi_sup = int(np.round(ysim_sup[-1], decimals=-3))\n",
        "\n",
        "plt.title(f\"Total final number of cases expected in France: \\n between {attesi_inf} et {attesi_sup} \", size=20)\n",
        "plt.legend()"
      ],
      "execution_count": 31,
      "outputs": [
        {
          "output_type": "execute_result",
          "data": {
            "text/plain": [
              "<matplotlib.legend.Legend at 0x7f3a68fa8940>"
            ]
          },
          "metadata": {
            "tags": []
          },
          "execution_count": 31
        },
        {
          "output_type": "display_data",
          "data": {
            "image/png": "[encoded data removed]",
            "text/plain": [
              "<Figure size 1008x504 with 1 Axes>"
            ]
          },
          "metadata": {
            "tags": []
          }
        }
      ]
    },
    {
      "cell_type": "code",
      "metadata": {
        "id": "sRmLgbAQA5cv",
        "colab_type": "code",
        "colab": {
          "base_uri": "https://localhost:8080/",
          "height": 215
        },
        "outputId": "51d779d8-4d01-419e-bb49-f00eb216f9c7"
      },
      "source": [
        "infections,ysim"
      ],
      "execution_count": 29,
      "outputs": [
        {
          "output_type": "execute_result",
          "data": {
            "text/plain": [
              "(array([   2,    3,    3,    3,    4,    5,    5,    5,    6,    6,    6,\n",
              "           6,    6,    6,    6,   11,   11,   11,   11,   11,   11,   11,\n",
              "          12,   12,   12,   12,   12,   12,   12,   12,   12,   12,   14,\n",
              "          18,   38,   57,  100,  130,  191,  204,  285,  377,  653,  949,\n",
              "        1126, 1412, 1784, 2281, 2876, 3664, 4477, 5423]),\n",
              " array([ 6413,  7490,  8543,  9525, 10404, 11160, 11789, 12298, 12700,\n",
              "        13013, 13252, 13433, 13570, 13672, 13748, 13804, 13845, 13876,\n",
              "        13899, 13915, 13927, 13936, 13943, 13948, 13952, 13954, 13956,\n",
              "        13957, 13959, 13959, 13960, 13960, 13961, 13961, 13961, 13961,\n",
              "        13961, 13961, 13961, 13961, 13961, 13961, 13961, 13961, 13961,\n",
              "        13961, 13961, 13961, 13961, 13961]))"
            ]
          },
          "metadata": {
            "tags": []
          },
          "execution_count": 29
        }
      ]
    }
  ]
}