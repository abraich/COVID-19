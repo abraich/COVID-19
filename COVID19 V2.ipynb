{
  "nbformat": 4,
  "nbformat_minor": 0,
  "metadata": {
    "colab": {
      "name": "COVID19",
      "provenance": [],
      "collapsed_sections": []
    },
    "kernelspec": {
      "name": "python3",
      "display_name": "Python 3"
    }
  },
  "cells": [
    {
      "cell_type": "markdown",
      "metadata": {
        "id": "KtVO4ihViu0i",
        "colab_type": "text"
      },
      "source": [
        "\n",
        "# **Ayoub Abraich**\n",
        "## M2 Data Science \n",
        "## Paris Saclay university "
      ]
    },
    {
      "cell_type": "code",
      "metadata": {
        "id": "H4EPTAxWKhmp",
        "colab_type": "code",
        "colab": {}
      },
      "source": [
        "import pandas as pd\n",
        "import matplotlib.pyplot as plt\n",
        "import numpy as np\n",
        "from sklearn.neighbors import KernelDensity\n",
        "from scipy.optimize import minimize\n",
        "import seaborn as sns\n",
        "from tqdm import tqdm\n",
        "import statsmodels.api as sm\n",
        "import warnings\n",
        "warnings.filterwarnings('ignore')\n"
      ],
      "execution_count": 0,
      "outputs": []
    },
    {
      "cell_type": "code",
      "metadata": {
        "id": "fzQH9rPfKtAz",
        "colab_type": "code",
        "colab": {}
      },
      "source": [
        "corona = pd.read_csv(\"cornew.csv\") "
      ],
      "execution_count": 0,
      "outputs": []
    },
    {
      "cell_type": "code",
      "metadata": {
        "id": "TijIHB6qK5M3",
        "colab_type": "code",
        "colab": {}
      },
      "source": [
        "def get_data(pays):\n",
        "  pays_data=corona[corona[\"Pays\"]==pays].set_index('Date').drop(columns=['Pays'])\n",
        "  infections=np.array(pays_data.reset_index()['Infections'])\n",
        "  infections.sort()\n",
        "  ###\n",
        "  deces=np.array(pays_data.reset_index()['Deces'])\n",
        "  deces.sort()\n",
        "  return infections,deces\n",
        "\n",
        "def plot(data,label,pays):\n",
        "  plt.plot(data)\n",
        "  plt.title(\"Evolutions des \"+label+\" en \"+pays)\n",
        "  plt.xlabel(\"Jours\")\n",
        "  plt.ylabel(\"Nombres des \"+label)\n",
        "  plt.show()"
      ],
      "execution_count": 0,
      "outputs": []
    },
    {
      "cell_type": "markdown",
      "metadata": {
        "id": "7ARK9JSGPBIc",
        "colab_type": "text"
      },
      "source": [
        "GLM"
      ]
    },
    {
      "cell_type": "code",
      "metadata": {
        "id": "ftbfazTtO0su",
        "colab_type": "code",
        "colab": {}
      },
      "source": [
        "def GLM(data,Nday):\n",
        "    n=len(data)\n",
        "    X=np.arange(1,n+1)\n",
        "    y=data\n",
        "    X= sm.add_constant(X, prepend=False)\n",
        "    model = sm.GLM(y,X,family=sm.families.Gaussian(sm.families.links.log))\n",
        "    res = model.fit()\n",
        "    X_test=sm.add_constant(np.arange(1,Nday+1), prepend=False) \n",
        "    y_pred = res.predict(X_test).astype(int)\n",
        "    error=np.sqrt(sum((y-y_pred[0:len(data)])**2))\n",
        "    print('Real data = ',y)\n",
        "    print('Prediction = ',y_pred[len(y):])\n",
        "    print(\"Erreur = \",error)\n",
        "    plt.xlabel(\"Jours\")\n",
        "    plt.ylabel(\"Nombres des cas au Maroc\")\n",
        "    plt.plot(X,y,'x')\n",
        "    plt.plot(np.arange(1,Nday+1),y_pred)\n",
        "    plt.show()"
      ],
      "execution_count": 0,
      "outputs": []
    },
    {
      "cell_type": "code",
      "metadata": {
        "id": "vrkQP91U6U6k",
        "colab_type": "code",
        "colab": {}
      },
      "source": [
        "def GLM_aux(pays):\n",
        "        infections,deces=get_data(pays)\n",
        "        print(\"*\"*105)\n",
        "        print(pays,\": \\n\")\n",
        "        print(\"death :\\n \")\n",
        "        GLM(deces,len(deces)+4)\n",
        "        print(\"infections :\\n\")\n",
        "        GLM(infections,len(infections)+4)\n",
        "        print(\"*\"*105)\n"
      ],
      "execution_count": 0,
      "outputs": []
    },
    {
      "cell_type": "code",
      "metadata": {
        "id": "lB0kzFW_8Kfd",
        "colab_type": "code",
        "colab": {}
      },
      "source": [
        "p_list1=['Maroc','Algérie','Turquie']\n",
        "p_list2=['France','Espagne','Italie']"
      ],
      "execution_count": 0,
      "outputs": []
    },
    {
      "cell_type": "code",
      "metadata": {
        "id": "e-2_pKbf7GVb",
        "colab_type": "code",
        "colab": {
          "base_uri": "https://localhost:8080/",
          "height": 1000
        },
        "outputId": "931801c6-1752-4270-97ea-1343c34a2f5c"
      },
      "source": [
        "for pays in p_list1 :\n",
        "     GLM_aux(pays)"
      ],
      "execution_count": 257,
      "outputs": [
        {
          "output_type": "stream",
          "text": [
            "*********************************************************************************************************\n",
            "Maroc : \n",
            "\n",
            "death :\n",
            " \n",
            "Real data =  [0 0 0 0 0 0 0 0 1 1 1 1 1 1 1]\n",
            "Prediction =  [1 1 2 2]\n",
            "Erreur =  2.23606797749979\n"
          ],
          "name": "stdout"
        },
        {
          "output_type": "display_data",
          "data": {
            "image/png": "[encoded data removed]",
            "text/plain": [
              "<Figure size 432x288 with 1 Axes>"
            ]
          },
          "metadata": {
            "tags": []
          }
        },
        {
          "output_type": "stream",
          "text": [
            "infections :\n",
            "\n",
            "Real data =  [ 1  1  1  2  2  2  2  2  3  5  6  7 17 28 29]\n",
            "Prediction =  [ 45  65  93 134]\n",
            "Erreur =  8.18535277187245\n"
          ],
          "name": "stdout"
        },
        {
          "output_type": "display_data",
          "data": {
            "image/png": "[encoded data removed]",
            "text/plain": [
              "<Figure size 432x288 with 1 Axes>"
            ]
          },
          "metadata": {
            "tags": []
          }
        },
        {
          "output_type": "stream",
          "text": [
            "*********************************************************************************************************\n",
            "*********************************************************************************************************\n",
            "Algérie : \n",
            "\n",
            "death :\n",
            " \n",
            "Real data =  [0 0 0 0 0 0 0 0 0 0 0 0 0 0 0 0 1 2 3 4 4]\n",
            "Prediction =  [ 6  9 13 19]\n",
            "Erreur =  1.7320508075688772\n"
          ],
          "name": "stdout"
        },
        {
          "output_type": "display_data",
          "data": {
            "image/png": "[encoded data removed]",
            "text/plain": [
              "<Figure size 432x288 with 1 Axes>"
            ]
          },
          "metadata": {
            "tags": []
          }
        },
        {
          "output_type": "stream",
          "text": [
            "infections :\n",
            "\n",
            "Real data =  [ 1  1  1  1  1  1  3  5 12 12 17 17 19 20 20 20 24 26 37 48 54]\n",
            "Prediction =  [61 71 84 98]\n",
            "Erreur =  15.811388300841896\n"
          ],
          "name": "stdout"
        },
        {
          "output_type": "display_data",
          "data": {
            "image/png": "[encoded data removed]",
            "text/plain": [
              "<Figure size 432x288 with 1 Axes>"
            ]
          },
          "metadata": {
            "tags": []
          }
        },
        {
          "output_type": "stream",
          "text": [
            "*********************************************************************************************************\n",
            "*********************************************************************************************************\n",
            "Turquie : \n",
            "\n",
            "death :\n",
            " \n"
          ],
          "name": "stdout"
        },
        {
          "output_type": "error",
          "ename": "ValueError",
          "evalue": "ignored",
          "traceback": [
            "\u001b[0;31m---------------------------------------------------------------------------\u001b[0m",
            "\u001b[0;31mValueError\u001b[0m                                Traceback (most recent call last)",
            "\u001b[0;32m<ipython-input-257-a8fb9b1e12c9>\u001b[0m in \u001b[0;36m<module>\u001b[0;34m()\u001b[0m\n\u001b[1;32m      1\u001b[0m \u001b[0;32mfor\u001b[0m \u001b[0mpays\u001b[0m \u001b[0;32min\u001b[0m \u001b[0mp_list1\u001b[0m \u001b[0;34m:\u001b[0m\u001b[0;34m\u001b[0m\u001b[0;34m\u001b[0m\u001b[0m\n\u001b[0;32m----> 2\u001b[0;31m      \u001b[0mGLM_aux\u001b[0m\u001b[0;34m(\u001b[0m\u001b[0mpays\u001b[0m\u001b[0;34m)\u001b[0m\u001b[0;34m\u001b[0m\u001b[0;34m\u001b[0m\u001b[0m\n\u001b[0m",
            "\u001b[0;32m<ipython-input-255-bb6be32330db>\u001b[0m in \u001b[0;36mGLM_aux\u001b[0;34m(pays)\u001b[0m\n\u001b[1;32m      4\u001b[0m         \u001b[0mprint\u001b[0m\u001b[0;34m(\u001b[0m\u001b[0mpays\u001b[0m\u001b[0;34m,\u001b[0m\u001b[0;34m\": \\n\"\u001b[0m\u001b[0;34m)\u001b[0m\u001b[0;34m\u001b[0m\u001b[0;34m\u001b[0m\u001b[0m\n\u001b[1;32m      5\u001b[0m         \u001b[0mprint\u001b[0m\u001b[0;34m(\u001b[0m\u001b[0;34m\"death :\\n \"\u001b[0m\u001b[0;34m)\u001b[0m\u001b[0;34m\u001b[0m\u001b[0;34m\u001b[0m\u001b[0m\n\u001b[0;32m----> 6\u001b[0;31m         \u001b[0mGLM\u001b[0m\u001b[0;34m(\u001b[0m\u001b[0mdeces\u001b[0m\u001b[0;34m,\u001b[0m\u001b[0mlen\u001b[0m\u001b[0;34m(\u001b[0m\u001b[0mdeces\u001b[0m\u001b[0;34m)\u001b[0m\u001b[0;34m+\u001b[0m\u001b[0;36m4\u001b[0m\u001b[0;34m)\u001b[0m\u001b[0;34m\u001b[0m\u001b[0;34m\u001b[0m\u001b[0m\n\u001b[0m\u001b[1;32m      7\u001b[0m         \u001b[0mprint\u001b[0m\u001b[0;34m(\u001b[0m\u001b[0;34m\"infections :\\n\"\u001b[0m\u001b[0;34m)\u001b[0m\u001b[0;34m\u001b[0m\u001b[0;34m\u001b[0m\u001b[0m\n\u001b[1;32m      8\u001b[0m         \u001b[0mGLM\u001b[0m\u001b[0;34m(\u001b[0m\u001b[0minfections\u001b[0m\u001b[0;34m,\u001b[0m\u001b[0mlen\u001b[0m\u001b[0;34m(\u001b[0m\u001b[0minfections\u001b[0m\u001b[0;34m)\u001b[0m\u001b[0;34m+\u001b[0m\u001b[0;36m4\u001b[0m\u001b[0;34m)\u001b[0m\u001b[0;34m\u001b[0m\u001b[0;34m\u001b[0m\u001b[0m\n",
            "\u001b[0;32m<ipython-input-241-15f855674668>\u001b[0m in \u001b[0;36mGLM\u001b[0;34m(data, Nday)\u001b[0m\n\u001b[1;32m      5\u001b[0m     \u001b[0mX\u001b[0m\u001b[0;34m=\u001b[0m \u001b[0msm\u001b[0m\u001b[0;34m.\u001b[0m\u001b[0madd_constant\u001b[0m\u001b[0;34m(\u001b[0m\u001b[0mX\u001b[0m\u001b[0;34m,\u001b[0m \u001b[0mprepend\u001b[0m\u001b[0;34m=\u001b[0m\u001b[0;32mFalse\u001b[0m\u001b[0;34m)\u001b[0m\u001b[0;34m\u001b[0m\u001b[0;34m\u001b[0m\u001b[0m\n\u001b[1;32m      6\u001b[0m     \u001b[0mmodel\u001b[0m \u001b[0;34m=\u001b[0m \u001b[0msm\u001b[0m\u001b[0;34m.\u001b[0m\u001b[0mGLM\u001b[0m\u001b[0;34m(\u001b[0m\u001b[0my\u001b[0m\u001b[0;34m,\u001b[0m\u001b[0mX\u001b[0m\u001b[0;34m,\u001b[0m\u001b[0mfamily\u001b[0m\u001b[0;34m=\u001b[0m\u001b[0msm\u001b[0m\u001b[0;34m.\u001b[0m\u001b[0mfamilies\u001b[0m\u001b[0;34m.\u001b[0m\u001b[0mGaussian\u001b[0m\u001b[0;34m(\u001b[0m\u001b[0msm\u001b[0m\u001b[0;34m.\u001b[0m\u001b[0mfamilies\u001b[0m\u001b[0;34m.\u001b[0m\u001b[0mlinks\u001b[0m\u001b[0;34m.\u001b[0m\u001b[0mlog\u001b[0m\u001b[0;34m)\u001b[0m\u001b[0;34m)\u001b[0m\u001b[0;34m\u001b[0m\u001b[0;34m\u001b[0m\u001b[0m\n\u001b[0;32m----> 7\u001b[0;31m     \u001b[0mres\u001b[0m \u001b[0;34m=\u001b[0m \u001b[0mmodel\u001b[0m\u001b[0;34m.\u001b[0m\u001b[0mfit\u001b[0m\u001b[0;34m(\u001b[0m\u001b[0;34m)\u001b[0m\u001b[0;34m\u001b[0m\u001b[0;34m\u001b[0m\u001b[0m\n\u001b[0m\u001b[1;32m      8\u001b[0m     \u001b[0mX_test\u001b[0m\u001b[0;34m=\u001b[0m\u001b[0msm\u001b[0m\u001b[0;34m.\u001b[0m\u001b[0madd_constant\u001b[0m\u001b[0;34m(\u001b[0m\u001b[0mnp\u001b[0m\u001b[0;34m.\u001b[0m\u001b[0marange\u001b[0m\u001b[0;34m(\u001b[0m\u001b[0;36m1\u001b[0m\u001b[0;34m,\u001b[0m\u001b[0mNday\u001b[0m\u001b[0;34m+\u001b[0m\u001b[0;36m1\u001b[0m\u001b[0;34m)\u001b[0m\u001b[0;34m,\u001b[0m \u001b[0mprepend\u001b[0m\u001b[0;34m=\u001b[0m\u001b[0;32mFalse\u001b[0m\u001b[0;34m)\u001b[0m\u001b[0;34m\u001b[0m\u001b[0;34m\u001b[0m\u001b[0m\n\u001b[1;32m      9\u001b[0m     \u001b[0my_pred\u001b[0m \u001b[0;34m=\u001b[0m \u001b[0mres\u001b[0m\u001b[0;34m.\u001b[0m\u001b[0mpredict\u001b[0m\u001b[0;34m(\u001b[0m\u001b[0mX_test\u001b[0m\u001b[0;34m)\u001b[0m\u001b[0;34m.\u001b[0m\u001b[0mastype\u001b[0m\u001b[0;34m(\u001b[0m\u001b[0mint\u001b[0m\u001b[0;34m)\u001b[0m\u001b[0;34m\u001b[0m\u001b[0;34m\u001b[0m\u001b[0m\n",
            "\u001b[0;32m/usr/local/lib/python3.6/dist-packages/statsmodels/genmod/generalized_linear_model.py\u001b[0m in \u001b[0;36mfit\u001b[0;34m(self, start_params, maxiter, method, tol, scale, cov_type, cov_kwds, use_t, full_output, disp, max_start_irls, **kwargs)\u001b[0m\n\u001b[1;32m   1026\u001b[0m             return self._fit_irls(start_params=start_params, maxiter=maxiter,\n\u001b[1;32m   1027\u001b[0m                                   \u001b[0mtol\u001b[0m\u001b[0;34m=\u001b[0m\u001b[0mtol\u001b[0m\u001b[0;34m,\u001b[0m \u001b[0mscale\u001b[0m\u001b[0;34m=\u001b[0m\u001b[0mscale\u001b[0m\u001b[0;34m,\u001b[0m \u001b[0mcov_type\u001b[0m\u001b[0;34m=\u001b[0m\u001b[0mcov_type\u001b[0m\u001b[0;34m,\u001b[0m\u001b[0;34m\u001b[0m\u001b[0;34m\u001b[0m\u001b[0m\n\u001b[0;32m-> 1028\u001b[0;31m                                   cov_kwds=cov_kwds, use_t=use_t, **kwargs)\n\u001b[0m\u001b[1;32m   1029\u001b[0m         \u001b[0;32melse\u001b[0m\u001b[0;34m:\u001b[0m\u001b[0;34m\u001b[0m\u001b[0;34m\u001b[0m\u001b[0m\n\u001b[1;32m   1030\u001b[0m             \u001b[0mself\u001b[0m\u001b[0;34m.\u001b[0m\u001b[0m_optim_hessian\u001b[0m \u001b[0;34m=\u001b[0m \u001b[0mkwargs\u001b[0m\u001b[0;34m.\u001b[0m\u001b[0mget\u001b[0m\u001b[0;34m(\u001b[0m\u001b[0;34m'optim_hessian'\u001b[0m\u001b[0;34m)\u001b[0m\u001b[0;34m\u001b[0m\u001b[0;34m\u001b[0m\u001b[0m\n",
            "\u001b[0;32m/usr/local/lib/python3.6/dist-packages/statsmodels/genmod/generalized_linear_model.py\u001b[0m in \u001b[0;36m_fit_irls\u001b[0;34m(self, start_params, maxiter, tol, scale, cov_type, cov_kwds, use_t, **kwargs)\u001b[0m\n\u001b[1;32m   1141\u001b[0m                                    self.freq_weights, self.scale)\n\u001b[1;32m   1142\u001b[0m         \u001b[0;32mif\u001b[0m \u001b[0mnp\u001b[0m\u001b[0;34m.\u001b[0m\u001b[0misnan\u001b[0m\u001b[0;34m(\u001b[0m\u001b[0mdev\u001b[0m\u001b[0;34m)\u001b[0m\u001b[0;34m:\u001b[0m\u001b[0;34m\u001b[0m\u001b[0;34m\u001b[0m\u001b[0m\n\u001b[0;32m-> 1143\u001b[0;31m             raise ValueError(\"The first guess on the deviance function \"\n\u001b[0m\u001b[1;32m   1144\u001b[0m                              \u001b[0;34m\"returned a nan.  This could be a boundary \"\u001b[0m\u001b[0;34m\u001b[0m\u001b[0;34m\u001b[0m\u001b[0m\n\u001b[1;32m   1145\u001b[0m                              \" problem and should be reported.\")\n",
            "\u001b[0;31mValueError\u001b[0m: The first guess on the deviance function returned a nan.  This could be a boundary  problem and should be reported."
          ]
        }
      ]
    },
    {
      "cell_type": "markdown",
      "metadata": {
        "id": "3IQXYPY7MgAc",
        "colab_type": "text"
      },
      "source": [
        "# Modelisation :"
      ]
    },
    {
      "cell_type": "markdown",
      "metadata": {
        "id": "NyZ8poPNMjf1",
        "colab_type": "text"
      },
      "source": [
        "Soit $N(t)$ le nombre de cas contaminés au temps t. On a la formule récurrente (simpliste) suivante qui décrit la dynamique du propagation de l'épidimie :  \n",
        "$$ N_{n+1}=N_n+ E\\cdot p\\cdot N_n$$ \n",
        "avec : \n",
        "  - $p$ : la probabilité que le malade contamine ceux qui sont en contact avec lui , elle est liée fortement par exmemple aux gestes barrières adoptées par les gens.\n",
        "  - $E$ : la moyenne des gens qui sont en contact avec le malade contaminé . "
      ]
    },
    {
      "cell_type": "markdown",
      "metadata": {
        "id": "hqrCsCx2OB0p",
        "colab_type": "text"
      },
      "source": [
        "Dans un premier temps , on considère $E$ et $p$ contstants par rapport au temps ( ce qui est faux ! ) mais cela va nous permettre d'avoir une idée sur la dynamique de COVID19.  On obtient : \n",
        "$$N_{n+1}=N_n+ E\\cdot p\\cdot N_n \\Leftrightarrow N_n = (1+E\\cdot p)^n N_0=(1+E\\cdot p)^{n-n_0}N_{n_0}$$"
      ]
    },
    {
      "cell_type": "code",
      "metadata": {
        "id": "CONFn3sbMfYU",
        "colab_type": "code",
        "colab": {}
      },
      "source": [
        "def N1(n,E,p,data):\n",
        "   return (1+E*p)**n * data[0]"
      ],
      "execution_count": 0,
      "outputs": []
    },
    {
      "cell_type": "code",
      "metadata": {
        "id": "c_N6rl9BMd0V",
        "colab_type": "code",
        "colab": {}
      },
      "source": [
        "# Example 1  \n",
        "E=1.\n",
        "p=0.1\n",
        "plt.plot([N1(i,E,p,infections) for i in range(len(infections))])"
      ],
      "execution_count": 0,
      "outputs": []
    },
    {
      "cell_type": "code",
      "metadata": {
        "id": "1rG8H_i7RyVn",
        "colab_type": "code",
        "colab": {}
      },
      "source": [
        "# Example 2\n",
        "E=1.\n",
        "p=0.5\n",
        "plt.plot([N1(i,E,p,infections) for i in range(len(infections))])"
      ],
      "execution_count": 0,
      "outputs": []
    },
    {
      "cell_type": "code",
      "metadata": {
        "id": "lzx_87npSVFs",
        "colab_type": "code",
        "colab": {}
      },
      "source": [
        "# Example 3\n",
        "E=2.\n",
        "p=0.1\n",
        "plt.plot([N1(i,E,p,infections) for i in range(len(infections))])"
      ],
      "execution_count": 0,
      "outputs": []
    },
    {
      "cell_type": "code",
      "metadata": {
        "id": "KXU-iCZCSGtH",
        "colab_type": "code",
        "colab": {}
      },
      "source": [
        "# Example 4\n",
        "E=2.\n",
        "p=0.5\n",
        "plt.plot([N1(i,E,p,infections) for i in range(len(infections))])"
      ],
      "execution_count": 0,
      "outputs": []
    },
    {
      "cell_type": "code",
      "metadata": {
        "id": "r-0c8wfo1LLR",
        "colab_type": "code",
        "colab": {}
      },
      "source": [
        "Ep=[(0.1,0.5),(2,0.2),(5,0.1),(10,0.1),(100,0.8)]\n",
        "for e in Ep :\n",
        "  print(\"%.2e\"%int(N1(50,e[0],e[1],infections)))"
      ],
      "execution_count": 0,
      "outputs": []
    },
    {
      "cell_type": "markdown",
      "metadata": {
        "id": "nsx0jpMb7Ea7",
        "colab_type": "text"
      },
      "source": [
        "|  E  |  p  |   N_10   |   N_50   |\n",
        "|:---:|:---:|:--------:|:--------:|\n",
        "| 0.1 | 0.5 |     3    |    22    |\n",
        "|  2  | 0.2 | 5.70e+01 | 4.05e+07 |\n",
        "|  5  | 0.1 | 1.15e+02 | 1.28e+09 |\n",
        "|  10 | 0.6 | 2.05e+03 | 2.25e+15 |\n",
        "| 100 | 0.8 | 2.43e+19 | 5.31e+95 |"
      ]
    },
    {
      "cell_type": "markdown",
      "metadata": {
        "id": "dIrA6UGoSxEW",
        "colab_type": "text"
      },
      "source": [
        "On constate que $E$ et $p$ determine la vitesse de propagation , ce qui justifie les mesures prises par le gouvernements ( interdiction de rassemblement afin de diminuer $E$ )  et les gestes barrieres ( afin de diminuer $p$ ) . "
      ]
    },
    {
      "cell_type": "markdown",
      "metadata": {
        "id": "EPULhrSKTj1b",
        "colab_type": "text"
      },
      "source": [
        "Dans notre modèle simpliste , on avait oublié ( mis à part la dépendance avec le temps de $E$ et $p$ ) le fait que $p$ est décroissante dans le temps et tend vers 0 : en effet, plus le virus est propagé , la probabilité de le transmettre à quelqu'un qui est déja contaminé est quasiment nulle . Donc, on doit prendre cela en compte , on posant : \n",
        "$$ p(t):=1 - \\frac{N(t)}{n_{pop}}$$ \n",
        "avec $n_{pop}$ le nombre de population dans le cluster étudié ou plus géneralement dans tout le pays . \n",
        "Cela implique une nouvelle équation différentielle simple (en supposant toujours que $E$ est indépedant du temps $t$ , ce qui faux en géneral mais pratique ) : \n"
      ]
    },
    {
      "cell_type": "markdown",
      "metadata": {
        "id": "DyseZNOsVaLq",
        "colab_type": "text"
      },
      "source": [
        "$$N_{n+1}-N_n = E\\cdot p\\cdot N_n\\rightarrow  N^{\\prime}(t)=E\\cdot \\left ( 1-\\frac{N(t)}{n_{pop}}\\right )N(t)$$\n",
        "et $N(t_0)=N_0$ "
      ]
    },
    {
      "cell_type": "markdown",
      "metadata": {
        "id": "82u5EqIKWY5l",
        "colab_type": "text"
      },
      "source": [
        "On peut écrire cette EDS comme : \n",
        "$$ N^{\\prime}(t)= g(t,N(t))$$\n",
        "avec $g(t,y):= E\\cdot (1-\\frac{y}{n_{pop}})y$ et $g$ vérifie bien les condition du théoreme de Cauchy-Lipschitz : D'ou l'existence et l'unicité de la solution."
      ]
    },
    {
      "cell_type": "markdown",
      "metadata": {
        "id": "9y0GqUBmY9A8",
        "colab_type": "text"
      },
      "source": [
        "On exhibe la solution sous forme d'une logistique, cad: \n",
        "$$ N(t)=\\frac{a}{\\alpha+b\\cdot \\exp(c\\cdot t)} $$\n",
        "\n",
        "\n"
      ]
    },
    {
      "cell_type": "markdown",
      "metadata": {
        "id": "Na8H_CIlZji0",
        "colab_type": "text"
      },
      "source": [
        "On retrouve par un simple calcul :\n",
        "$$N(t)=\\frac{n_{pop}}{\\alpha+\\gamma _0\\cdot \\exp(E\\cdot (t_0-t))}$$\n",
        "avec $\\gamma_0:=\\frac{n_{pop}}{N(t_0)}-\\alpha$\n",
        "\n"
      ]
    },
    {
      "cell_type": "markdown",
      "metadata": {
        "id": "KS6iMtZ3ah94",
        "colab_type": "text"
      },
      "source": [
        "De meme pour $p$ : \n",
        "$$p(t):=1-\\frac{N(t)}{n_{pop}}=1-\\frac{1}{\\alpha+\\gamma _0\\cdot \\exp(E\\cdot (t_0-t))}$$"
      ]
    },
    {
      "cell_type": "code",
      "metadata": {
        "id": "iTC03yd6dza-",
        "colab_type": "code",
        "colab": {}
      },
      "source": [
        "\n",
        "infections[0]"
      ],
      "execution_count": 0,
      "outputs": []
    },
    {
      "cell_type": "code",
      "metadata": {
        "id": "z_OEOFwCWYGp",
        "colab_type": "code",
        "colab": {}
      },
      "source": [
        "def N2(t,t0,E,npop,alpha,data):\n",
        "  gamma0=npop/data[3]-alpha\n",
        "  return npop/(alpha+gamma0*np.exp(E*(t0-t)))"
      ],
      "execution_count": 0,
      "outputs": []
    },
    {
      "cell_type": "code",
      "metadata": {
        "id": "IAmlopwZSwS9",
        "colab_type": "code",
        "colab": {}
      },
      "source": [
        "# Examples\n",
        "npop=6*10**7\n",
        "t0=0\n",
        "alpha=5000\n",
        "E_list=[0.1,0.2,0.5,1,2,5]\n",
        "for E in E_list : \n",
        "  plt.plot([N2(i,t0,E,npop,alpha,infections) for i in range(3*len(infections))],label=\"for E = \"+str(E))\n",
        "\n",
        "plt.title(\"Evolution of infections\")\n",
        "plt.xlabel(\"Days\")\n",
        "plt.ylabel(\"Number of infections\")\n",
        "plt.legend()\n",
        "plt.show()"
      ],
      "execution_count": 0,
      "outputs": []
    },
    {
      "cell_type": "markdown",
      "metadata": {
        "id": "cMO-T_f38iPD",
        "colab_type": "text"
      },
      "source": [
        "Rappeleons que  : $$N(t)=\\frac{a}{\\alpha+b\\cdot \\exp(c\\cdot t)}=\\frac{\\tilde{a}}{1+\\exp(-\\tilde{c}\\cdot(t-\\tilde{b}))}$$ \n",
        "Le but maintenant est de trouver les parametres $\\tilde{a},\\tilde{b}$ et $\\tilde{c}$ pour nos données réelles . \n",
        "On note : $$\\psi_t(\\theta):=\\frac{\\theta_1}{1+\\exp(-\\theta_3\\cdot(t-\\theta_2))}$$\n",
        "On doit calculer $\\theta^*:=\\left (\\theta_0^*,\\theta_1^*,\\theta_2^*\\right )$ tq $$ \\theta^*= \\textit{argmin}_{\\theta} \\sum_{i=1}^{n}\\left | X_{t_i}-\\psi_{t_i}(\\theta) \\right |^{2}$$\n",
        "avec la méthode Gradient Descent par exemple . Ensuite on définit notre prédicteur de $N(t)$ par : \n",
        "$$\\hat{N}(t):=\\psi_t(\\theta^*)$$"
      ]
    },
    {
      "cell_type": "code",
      "metadata": {
        "id": "t1sJdL6N9ZS-",
        "colab_type": "code",
        "colab": {}
      },
      "source": [
        "from scipy import optimize\n",
        "\n",
        "def fit_bootstrap(p0, datax, datay, function, yerr_systematic=0.0):\n",
        "\n",
        "    errfunc = lambda p, x, y: function(x,p) - y\n",
        "\n",
        "    # Fit first time\n",
        "    pfit, perr = optimize.leastsq(errfunc, p0, args=(datax, datay), full_output=0)\n",
        "\n",
        "\n",
        "    # Get the stdev of the residuals\n",
        "    residuals = errfunc(pfit, datax, datay)\n",
        "    sigma_res = np.std(residuals)\n",
        "\n",
        "    sigma_err_total = np.sqrt(sigma_res**2 + yerr_systematic**2)\n",
        "\n",
        "    # 500 random data sets are generated and fitted\n",
        "    ps = []\n",
        "    for i in range(200):\n",
        "\n",
        "        randomDelta = np.random.normal(0., sigma_err_total, len(datay))\n",
        "        randomdataY = datay + randomDelta\n",
        "\n",
        "        randomfit, randomcov = \\\n",
        "            optimize.leastsq(errfunc, p0, args=(datax, randomdataY),\\\n",
        "                             full_output=0)\n",
        "\n",
        "        ps.append(randomfit) \n",
        "\n",
        "    ps = np.array(ps)\n",
        "    mean_pfit = np.mean(ps,0)\n",
        "\n",
        "    # You can choose the confidence interval that you want for your\n",
        "    # parameter estimates: \n",
        "    Nsigma = 2. # 1sigma gets approximately the same as methods above\n",
        "                # 1sigma corresponds to 68.3% confidence interval\n",
        "                # 2sigma corresponds to 95.44% confidence interval\n",
        "    err_pfit = Nsigma * np.std(ps,0) \n",
        "\n",
        "    pfit_bootstrap = mean_pfit\n",
        "    perr_bootstrap = err_pfit\n",
        "    return pfit_bootstrap, perr_bootstrap \n",
        "\n",
        "def sigmoid(x, pars):\n",
        "    c = pars[0]\n",
        "    a = pars[1]\n",
        "    b = pars[2]\n",
        "    return a / (1 + np.exp(-(x-b)*c))"
      ],
      "execution_count": 0,
      "outputs": []
    },
    {
      "cell_type": "code",
      "metadata": {
        "id": "_VgqZLov95gG",
        "colab_type": "code",
        "colab": {}
      },
      "source": [
        "def extrapolation(data,pays,title):\n",
        "        pstart = [2.43758048e-01, 4.31177862e+04, 1.95312145e+01]\n",
        "\n",
        "        ydata = data\n",
        "\n",
        "        xdata = np.arange(len(ydata))\n",
        "                  \n",
        "        pfit, perr = fit_bootstrap(pstart, xdata, ydata, sigmoid)\n",
        "        fig = plt.figure(figsize=(14, 7))\n",
        "        ax = fig.add_subplot(111)\n",
        "        # data réelle \n",
        "        ax.plot(xdata, ydata, '+', markersize=20,label=\"Real infections\")\n",
        "        # \n",
        "        ysim = sigmoid(xdata, pfit).astype(int)\n",
        "        ax.plot(xdata, ysim, '--', c = 'r')\n",
        "\n",
        "        # Extrapolation\n",
        "        xsim = np.linspace (len(xdata), 2*len(xdata))\n",
        "        ysim = sigmoid(xsim, pfit).astype(int)\n",
        "        ax.plot(xsim, ysim, '--', c = 'r', label=\"Extrapolation\")\n",
        "\n",
        "\n",
        "        # l'Extrapolation maximale\n",
        "        ysim_sup = sigmoid(xsim, pfit+perr)\n",
        "        ax.plot(xsim, ysim_sup, '--', c = 'r', alpha = 0.2)\n",
        "\n",
        "        # l'Extrapolation minimale\n",
        "\n",
        "        ysim_inf = sigmoid(xsim, pfit-perr)\n",
        "        ax.plot(xsim, ysim_inf, '--', c = 'r', alpha = 0.2)\n",
        "        plt.fill_between(xsim, ysim_sup, ysim_inf, facecolor=\"red\", alpha=0.1)\n",
        "        attesi_inf = int(ysim_inf[-1])\n",
        "        attesi_sup = int(ysim_sup[-1])\n",
        "\n",
        "        plt.title(\"Total final number of \"+title+\" expected in \"+pays+f\": \\n between {attesi_inf} et {attesi_sup} \", size=20)\n",
        "        plt.legend()\n",
        "        #print(data,ysim)"
      ],
      "execution_count": 0,
      "outputs": []
    },
    {
      "cell_type": "code",
      "metadata": {
        "id": "s2epBwr1-I9X",
        "colab_type": "code",
        "colab": {}
      },
      "source": [
        "def prediction(pays):\n",
        "       infection,deces=get_data(pays)\n",
        "       extrapolation(infection,pays,'infections')\n",
        "       extrapolation(deces,pays,'death')\n",
        "  \n"
      ],
      "execution_count": 0,
      "outputs": []
    },
    {
      "cell_type": "code",
      "metadata": {
        "id": "f0a2mW7pxOA0",
        "colab_type": "code",
        "colab": {}
      },
      "source": [
        "for pays in p_list2 : \n",
        "        prediction(pays)"
      ],
      "execution_count": 0,
      "outputs": []
    }
  ]
}